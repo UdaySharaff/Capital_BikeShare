{
 "cells": [
  {
   "cell_type": "code",
   "execution_count": 1,
   "id": "4e473365",
   "metadata": {},
   "outputs": [],
   "source": [
    "from pyspark import SparkContext\n"
   ]
  },
  {
   "cell_type": "code",
   "execution_count": 2,
   "id": "bb12f541",
   "metadata": {},
   "outputs": [],
   "source": [
    "import pandas"
   ]
  },
  {
   "cell_type": "code",
   "execution_count": 3,
   "id": "dbdc7c40",
   "metadata": {},
   "outputs": [],
   "source": [
    "from pyspark.sql import SparkSession\n",
    "\n",
    "spark = SparkSession.builder.appName(\"big data\").config(\"spark.some.config.option\", \"some-value\") \\\n",
    "    .getOrCreate()"
   ]
  },
  {
   "cell_type": "code",
   "execution_count": 4,
   "id": "94eafc24",
   "metadata": {},
   "outputs": [],
   "source": [
    "df2 = spark.read.option(\"header\",True).csv('/home/usharaff/Downloads/202110-capitalbikeshare-tripdata.csv')"
   ]
  },
  {
   "cell_type": "code",
   "execution_count": 5,
   "id": "4cb71b10",
   "metadata": {},
   "outputs": [],
   "source": [
    "df1 = spark.read.option(\"header\",True).csv('/home/usharaff/Downloads/202101-capitalbikeshare-tripdata.csv')\n"
   ]
  },
  {
   "cell_type": "code",
   "execution_count": 6,
   "id": "bf341433",
   "metadata": {},
   "outputs": [
    {
     "data": {
      "text/plain": [
       "100070"
      ]
     },
     "execution_count": 6,
     "metadata": {},
     "output_type": "execute_result"
    }
   ],
   "source": [
    "df1.count()"
   ]
  },
  {
   "cell_type": "code",
   "execution_count": 7,
   "id": "b6e4788d",
   "metadata": {},
   "outputs": [
    {
     "data": {
      "text/plain": [
       "328300"
      ]
     },
     "execution_count": 7,
     "metadata": {},
     "output_type": "execute_result"
    }
   ],
   "source": [
    "df2.count()"
   ]
  },
  {
   "cell_type": "code",
   "execution_count": 8,
   "id": "1a5d6030",
   "metadata": {},
   "outputs": [
    {
     "data": {
      "text/plain": [
       "['ride_id',\n",
       " 'rideable_type',\n",
       " 'started_at',\n",
       " 'ended_at',\n",
       " 'start_station_name',\n",
       " 'start_station_id',\n",
       " 'end_station_name',\n",
       " 'end_station_id',\n",
       " 'start_lat',\n",
       " 'start_lng',\n",
       " 'end_lat',\n",
       " 'end_lng',\n",
       " 'member_casual']"
      ]
     },
     "execution_count": 8,
     "metadata": {},
     "output_type": "execute_result"
    }
   ],
   "source": [
    "df1.columns"
   ]
  },
  {
   "cell_type": "code",
   "execution_count": 9,
   "id": "7f657a0a",
   "metadata": {},
   "outputs": [
    {
     "name": "stdout",
     "output_type": "stream",
     "text": [
      "+-------------+-----+\n",
      "|member_casual|count|\n",
      "+-------------+-----+\n",
      "|       casual|33387|\n",
      "|       member|66683|\n",
      "+-------------+-----+\n",
      "\n"
     ]
    },
    {
     "data": {
      "text/plain": [
       "<AxesSubplot:xlabel='member_casual'>"
      ]
     },
     "execution_count": 9,
     "metadata": {},
     "output_type": "execute_result"
    },
    {
     "data": {
      "image/png": "[encoded data removed]",
      "text/plain": [
       "<Figure size 432x288 with 1 Axes>"
      ]
     },
     "metadata": {
      "needs_background": "light"
     },
     "output_type": "display_data"
    }
   ],
   "source": [
    "a=df1.groupBy(\"member_casual\").count()\n",
    "a.show()\n",
    "a.toPandas().plot.bar(x=\"member_casual\", y=\"count\")\n",
    "\n"
   ]
  },
  {
   "cell_type": "code",
   "execution_count": 10,
   "id": "8a7c5e15",
   "metadata": {},
   "outputs": [
    {
     "name": "stdout",
     "output_type": "stream",
     "text": [
      "+-------------+------+\n",
      "|member_casual| count|\n",
      "+-------------+------+\n",
      "|       casual|127703|\n",
      "|       member|200597|\n",
      "+-------------+------+\n",
      "\n"
     ]
    },
    {
     "data": {
      "text/plain": [
       "<AxesSubplot:xlabel='member_casual'>"
      ]
     },
     "execution_count": 10,
     "metadata": {},
     "output_type": "execute_result"
    },
    {
     "data": {
      "image/png": "[encoded data removed]",
      "text/plain": [
       "<Figure size 432x288 with 1 Axes>"
      ]
     },
     "metadata": {
      "needs_background": "light"
     },
     "output_type": "display_data"
    }
   ],
   "source": [
    "b=df2.groupBy(\"member_casual\").count()\n",
    "b.show()\n",
    "b.toPandas().plot.bar(x=\"member_casual\", y=\"count\")\n"
   ]
  },
  {
   "cell_type": "code",
   "execution_count": 11,
   "id": "ab4c17a1",
   "metadata": {},
   "outputs": [],
   "source": [
    "c=df1.groupBy(\"start_station_name\",\"end_station_name\").count().toPandas()\n"
   ]
  },
  {
   "cell_type": "code",
   "execution_count": 12,
   "id": "8bed8c24",
   "metadata": {},
   "outputs": [
    {
     "data": {
      "text/html": [
       "<div>\n",
       "<style scoped>\n",
       "    .dataframe tbody tr th:only-of-type {\n",
       "        vertical-align: middle;\n",
       "    }\n",
       "\n",
       "    .dataframe tbody tr th {\n",
       "        vertical-align: top;\n",
       "    }\n",
       "\n",
       "    .dataframe thead th {\n",
       "        text-align: right;\n",
       "    }\n",
       "</style>\n",
       "<table border=\"1\" class=\"dataframe\">\n",
       "  <thead>\n",
       "    <tr style=\"text-align: right;\">\n",
       "      <th></th>\n",
       "      <th>start_station_name</th>\n",
       "      <th>end_station_name</th>\n",
       "      <th>count</th>\n",
       "    </tr>\n",
       "  </thead>\n",
       "  <tbody>\n",
       "    <tr>\n",
       "      <th>378</th>\n",
       "      <td>Jefferson Dr &amp; 14th St SW</td>\n",
       "      <td>Jefferson Dr &amp; 14th St SW</td>\n",
       "      <td>100</td>\n",
       "    </tr>\n",
       "    <tr>\n",
       "      <th>9971</th>\n",
       "      <td>Ohio Dr &amp; West Basin Dr SW / MLK &amp; FDR Memorials</td>\n",
       "      <td>Ohio Dr &amp; West Basin Dr SW / MLK &amp; FDR Memorials</td>\n",
       "      <td>98</td>\n",
       "    </tr>\n",
       "    <tr>\n",
       "      <th>7116</th>\n",
       "      <td>Hains Point/Buckeye &amp; Ohio Dr SW</td>\n",
       "      <td>Hains Point/Buckeye &amp; Ohio Dr SW</td>\n",
       "      <td>86</td>\n",
       "    </tr>\n",
       "    <tr>\n",
       "      <th>12560</th>\n",
       "      <td>1st &amp; M St NE</td>\n",
       "      <td>1st &amp; M St NE</td>\n",
       "      <td>86</td>\n",
       "    </tr>\n",
       "    <tr>\n",
       "      <th>24774</th>\n",
       "      <td>Gravelly Point</td>\n",
       "      <td>Gravelly Point</td>\n",
       "      <td>80</td>\n",
       "    </tr>\n",
       "    <tr>\n",
       "      <th>2392</th>\n",
       "      <td>Anacostia Park</td>\n",
       "      <td>Anacostia Park</td>\n",
       "      <td>77</td>\n",
       "    </tr>\n",
       "    <tr>\n",
       "      <th>9900</th>\n",
       "      <td>4th St &amp; Madison Dr NW</td>\n",
       "      <td>4th St &amp; Madison Dr NW</td>\n",
       "      <td>68</td>\n",
       "    </tr>\n",
       "    <tr>\n",
       "      <th>25563</th>\n",
       "      <td>Thomas Circle</td>\n",
       "      <td>Thomas Circle</td>\n",
       "      <td>63</td>\n",
       "    </tr>\n",
       "    <tr>\n",
       "      <th>17662</th>\n",
       "      <td>New Hampshire Ave &amp; T St NW</td>\n",
       "      <td>New Hampshire Ave &amp; T St NW</td>\n",
       "      <td>61</td>\n",
       "    </tr>\n",
       "    <tr>\n",
       "      <th>27060</th>\n",
       "      <td>14th &amp; L St NW</td>\n",
       "      <td>14th &amp; L St NW</td>\n",
       "      <td>59</td>\n",
       "    </tr>\n",
       "  </tbody>\n",
       "</table>\n",
       "</div>"
      ],
      "text/plain": [
       "                                     start_station_name  \\\n",
       "378                           Jefferson Dr & 14th St SW   \n",
       "9971   Ohio Dr & West Basin Dr SW / MLK & FDR Memorials   \n",
       "7116                   Hains Point/Buckeye & Ohio Dr SW   \n",
       "12560                                     1st & M St NE   \n",
       "24774                                    Gravelly Point   \n",
       "2392                                     Anacostia Park   \n",
       "9900                             4th St & Madison Dr NW   \n",
       "25563                                     Thomas Circle   \n",
       "17662                       New Hampshire Ave & T St NW   \n",
       "27060                                    14th & L St NW   \n",
       "\n",
       "                                       end_station_name  count  \n",
       "378                           Jefferson Dr & 14th St SW    100  \n",
       "9971   Ohio Dr & West Basin Dr SW / MLK & FDR Memorials     98  \n",
       "7116                   Hains Point/Buckeye & Ohio Dr SW     86  \n",
       "12560                                     1st & M St NE     86  \n",
       "24774                                    Gravelly Point     80  \n",
       "2392                                     Anacostia Park     77  \n",
       "9900                             4th St & Madison Dr NW     68  \n",
       "25563                                     Thomas Circle     63  \n",
       "17662                       New Hampshire Ave & T St NW     61  \n",
       "27060                                    14th & L St NW     59  "
      ]
     },
     "execution_count": 12,
     "metadata": {},
     "output_type": "execute_result"
    }
   ],
   "source": [
    "c.sort_values(by='count', ascending=False).dropna()[:10]"
   ]
  },
  {
   "cell_type": "code",
   "execution_count": 13,
   "id": "903270f2",
   "metadata": {},
   "outputs": [
    {
     "data": {
      "text/html": [
       "<div>\n",
       "<style scoped>\n",
       "    .dataframe tbody tr th:only-of-type {\n",
       "        vertical-align: middle;\n",
       "    }\n",
       "\n",
       "    .dataframe tbody tr th {\n",
       "        vertical-align: top;\n",
       "    }\n",
       "\n",
       "    .dataframe thead th {\n",
       "        text-align: right;\n",
       "    }\n",
       "</style>\n",
       "<table border=\"1\" class=\"dataframe\">\n",
       "  <thead>\n",
       "    <tr style=\"text-align: right;\">\n",
       "      <th></th>\n",
       "      <th>start_station_name</th>\n",
       "      <th>end_station_name</th>\n",
       "      <th>count</th>\n",
       "    </tr>\n",
       "  </thead>\n",
       "  <tbody>\n",
       "    <tr>\n",
       "      <th>16063</th>\n",
       "      <td>Smithsonian-National Mall / Jefferson Dr &amp; 12t...</td>\n",
       "      <td>Smithsonian-National Mall / Jefferson Dr &amp; 12t...</td>\n",
       "      <td>484</td>\n",
       "    </tr>\n",
       "    <tr>\n",
       "      <th>23741</th>\n",
       "      <td>1st &amp; M St NE</td>\n",
       "      <td>New Jersey Ave &amp; F St NW</td>\n",
       "      <td>467</td>\n",
       "    </tr>\n",
       "    <tr>\n",
       "      <th>824</th>\n",
       "      <td>Jefferson Dr &amp; 14th St SW</td>\n",
       "      <td>Jefferson Dr &amp; 14th St SW</td>\n",
       "      <td>466</td>\n",
       "    </tr>\n",
       "    <tr>\n",
       "      <th>19903</th>\n",
       "      <td>4th St &amp; Madison Dr NW</td>\n",
       "      <td>4th St &amp; Madison Dr NW</td>\n",
       "      <td>397</td>\n",
       "    </tr>\n",
       "    <tr>\n",
       "      <th>30662</th>\n",
       "      <td>New Jersey Ave &amp; F St NW</td>\n",
       "      <td>1st &amp; M St NE</td>\n",
       "      <td>373</td>\n",
       "    </tr>\n",
       "    <tr>\n",
       "      <th>1716</th>\n",
       "      <td>15th St &amp; Constitution Ave NW</td>\n",
       "      <td>15th St &amp; Constitution Ave NW</td>\n",
       "      <td>315</td>\n",
       "    </tr>\n",
       "    <tr>\n",
       "      <th>20243</th>\n",
       "      <td>Ohio Dr &amp; West Basin Dr SW / MLK &amp; FDR Memorials</td>\n",
       "      <td>Ohio Dr &amp; West Basin Dr SW / MLK &amp; FDR Memorials</td>\n",
       "      <td>302</td>\n",
       "    </tr>\n",
       "    <tr>\n",
       "      <th>53909</th>\n",
       "      <td>Henry Bacon Dr &amp; Lincoln Memorial Circle NW</td>\n",
       "      <td>Henry Bacon Dr &amp; Lincoln Memorial Circle NW</td>\n",
       "      <td>270</td>\n",
       "    </tr>\n",
       "    <tr>\n",
       "      <th>54295</th>\n",
       "      <td>Lincoln Memorial</td>\n",
       "      <td>Lincoln Memorial</td>\n",
       "      <td>267</td>\n",
       "    </tr>\n",
       "    <tr>\n",
       "      <th>50269</th>\n",
       "      <td>Gravelly Point</td>\n",
       "      <td>Gravelly Point</td>\n",
       "      <td>266</td>\n",
       "    </tr>\n",
       "  </tbody>\n",
       "</table>\n",
       "</div>"
      ],
      "text/plain": [
       "                                      start_station_name  \\\n",
       "16063  Smithsonian-National Mall / Jefferson Dr & 12t...   \n",
       "23741                                      1st & M St NE   \n",
       "824                            Jefferson Dr & 14th St SW   \n",
       "19903                             4th St & Madison Dr NW   \n",
       "30662                           New Jersey Ave & F St NW   \n",
       "1716                       15th St & Constitution Ave NW   \n",
       "20243   Ohio Dr & West Basin Dr SW / MLK & FDR Memorials   \n",
       "53909        Henry Bacon Dr & Lincoln Memorial Circle NW   \n",
       "54295                                   Lincoln Memorial   \n",
       "50269                                     Gravelly Point   \n",
       "\n",
       "                                        end_station_name  count  \n",
       "16063  Smithsonian-National Mall / Jefferson Dr & 12t...    484  \n",
       "23741                           New Jersey Ave & F St NW    467  \n",
       "824                            Jefferson Dr & 14th St SW    466  \n",
       "19903                             4th St & Madison Dr NW    397  \n",
       "30662                                      1st & M St NE    373  \n",
       "1716                       15th St & Constitution Ave NW    315  \n",
       "20243   Ohio Dr & West Basin Dr SW / MLK & FDR Memorials    302  \n",
       "53909        Henry Bacon Dr & Lincoln Memorial Circle NW    270  \n",
       "54295                                   Lincoln Memorial    267  \n",
       "50269                                     Gravelly Point    266  "
      ]
     },
     "execution_count": 13,
     "metadata": {},
     "output_type": "execute_result"
    }
   ],
   "source": [
    "d=df2.groupBy(\"start_station_name\",\"end_station_name\").count().toPandas()\n",
    "d.sort_values(by='count', ascending=False).dropna()[:10]"
   ]
  },
  {
   "cell_type": "code",
   "execution_count": 14,
   "id": "68d18dba",
   "metadata": {},
   "outputs": [],
   "source": [
    "e=df1.groupBy(\"rideable_type\").count().toPandas()\n",
    "e.set_index('rideable_type', inplace=True)"
   ]
  },
  {
   "cell_type": "code",
   "execution_count": 15,
   "id": "1fe7802d",
   "metadata": {},
   "outputs": [
    {
     "data": {
      "text/plain": [
       "<AxesSubplot:ylabel='count'>"
      ]
     },
     "execution_count": 15,
     "metadata": {},
     "output_type": "execute_result"
    },
    {
     "data": {
      "image/png": "[encoded data removed]",
      "text/plain": [
       "<Figure size 432x288 with 1 Axes>"
      ]
     },
     "metadata": {},
     "output_type": "display_data"
    }
   ],
   "source": [
    "e.plot.pie(y='count',legend=False,autopct='%1.1f%%')"
   ]
  },
  {
   "cell_type": "code",
   "execution_count": 16,
   "id": "54a49afe",
   "metadata": {},
   "outputs": [],
   "source": [
    "f=df2.groupBy(\"rideable_type\").count().toPandas()\n",
    "f.set_index('rideable_type', inplace=True)"
   ]
  },
  {
   "cell_type": "code",
   "execution_count": 17,
   "id": "aa2fae81",
   "metadata": {},
   "outputs": [
    {
     "data": {
      "text/plain": [
       "<AxesSubplot:ylabel='count'>"
      ]
     },
     "execution_count": 17,
     "metadata": {},
     "output_type": "execute_result"
    },
    {
     "data": {
      "image/png": "[encoded data removed]",
      "text/plain": [
       "<Figure size 432x288 with 1 Axes>"
      ]
     },
     "metadata": {},
     "output_type": "display_data"
    }
   ],
   "source": [
    "f.plot.pie(y='count',legend=False,autopct='%1.1f%%')"
   ]
  }
 ],
 "metadata": {
  "kernelspec": {
   "display_name": "Python 3",
   "language": "python",
   "name": "python3"
  },
  "language_info": {
   "codemirror_mode": {
    "name": "ipython",
    "version": 3
   },
   "file_extension": ".py",
   "mimetype": "text/x-python",
   "name": "python",
   "nbconvert_exporter": "python",
   "pygments_lexer": "ipython3",
   "version": "3.6.9"
  }
 },
 "nbformat": 4,
 "nbformat_minor": 5
}
