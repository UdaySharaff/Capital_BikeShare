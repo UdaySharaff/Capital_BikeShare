{
 "cells": [
  {
   "cell_type": "markdown",
   "id": "df4a386f",
   "metadata": {},
   "source": [
    "Importing Necessary Libraries"
   ]
  },
  {
   "cell_type": "code",
   "execution_count": 1,
   "id": "4e473365",
   "metadata": {},
   "outputs": [],
   "source": [
    "from pyspark import SparkContext"
   ]
  },
  {
   "cell_type": "code",
   "execution_count": 2,
   "id": "bb12f541",
   "metadata": {},
   "outputs": [],
   "source": [
    "import pandas"
   ]
  },
  {
   "cell_type": "code",
   "execution_count": 3,
   "id": "dbdc7c40",
   "metadata": {},
   "outputs": [],
   "source": [
    "from pyspark.sql import SparkSession\n",
    "\n",
    "spark = SparkSession.builder.appName(\"big data\").config(\"spark.some.config.option\", \"some-value\").getOrCreate()"
   ]
  },
  {
   "cell_type": "markdown",
   "id": "c6926d12",
   "metadata": {},
   "source": [
    "Reading CSV files using PySpark"
   ]
  },
  {
   "cell_type": "code",
   "execution_count": 5,
   "id": "4cb71b10",
   "metadata": {},
   "outputs": [],
   "source": [
    "df1 = spark.read.option(\"header\",True).csv('/home/usharaff/Downloads/202101-capitalbikeshare-tripdata.csv')\n"
   ]
  },
  {
   "cell_type": "code",
   "execution_count": 4,
   "id": "94eafc24",
   "metadata": {},
   "outputs": [],
   "source": [
    "df2 = spark.read.option(\"header\",True).csv('/home/usharaff/Downloads/202110-capitalbikeshare-tripdata.csv')"
   ]
  },
  {
   "cell_type": "code",
   "execution_count": 6,
   "id": "bf341433",
   "metadata": {},
   "outputs": [
    {
     "name": "stdout",
     "output_type": "stream",
     "text": [
      "number of rows in data from Jan 2021 100070 \n",
      "number of rows in data from Jan 2021 328300\n"
     ]
    }
   ],
   "source": [
    "print(\"number of rows in data from Jan 2021 :\",df1.count(),\"\\nnumber of rows in data from Oct 2021 :\",df2.count())"
   ]
  },
  {
   "cell_type": "code",
   "execution_count": 7,
   "id": "1a5d6030",
   "metadata": {},
   "outputs": [
    {
     "data": {
      "text/plain": [
       "['ride_id',\n",
       " 'rideable_type',\n",
       " 'started_at',\n",
       " 'ended_at',\n",
       " 'start_station_name',\n",
       " 'start_station_id',\n",
       " 'end_station_name',\n",
       " 'end_station_id',\n",
       " 'start_lat',\n",
       " 'start_lng',\n",
       " 'end_lat',\n",
       " 'end_lng',\n",
       " 'member_casual']"
      ]
     },
     "execution_count": 7,
     "metadata": {},
     "output_type": "execute_result"
    }
   ],
   "source": [
    "df1.columns"
   ]
  },
  {
   "cell_type": "markdown",
   "id": "d0122de6",
   "metadata": {},
   "source": [
    "### Preprocessing the Data\n",
    "Just using necessary columns and dropping the rest\n",
    "Removing all the null values"
   ]
  },
  {
   "cell_type": "code",
   "execution_count": 8,
   "id": "c85fa06d",
   "metadata": {},
   "outputs": [],
   "source": [
    "df1=df1.select('rideable_type','start_station_name','end_station_name','member_casual')\n",
    "df2=df2.select('rideable_type','start_station_name','end_station_name','member_casual')"
   ]
  },
  {
   "cell_type": "code",
   "execution_count": 9,
   "id": "563dee4e",
   "metadata": {},
   "outputs": [],
   "source": [
    "df1=df1.na.drop()\n",
    "df2=df2.na.drop()\n"
   ]
  },
  {
   "cell_type": "code",
   "execution_count": 10,
   "id": "53f002c6",
   "metadata": {},
   "outputs": [
    {
     "name": "stdout",
     "output_type": "stream",
     "text": [
      "number of rows in data from Jan 2021 85219 \n",
      "number of rows in data from Jan 2021 303533\n"
     ]
    }
   ],
   "source": [
    "print(\"number of rows in data from Jan 2021 :\",df1.count(),\"\\nnumber of rows in data from Oct 2021 :\",df2.count())"
   ]
  },
  {
   "cell_type": "markdown",
   "id": "74d32fc0",
   "metadata": {},
   "source": [
    "### Visualizing the results"
   ]
  },
  {
   "cell_type": "markdown",
   "id": "25e3ac45",
   "metadata": {},
   "source": [
    "Bar plot showing number of casual users and number of members in the shared rides taken in Jan 2021"
   ]
  },
  {
   "cell_type": "code",
   "execution_count": 20,
   "id": "7f657a0a",
   "metadata": {},
   "outputs": [
    {
     "name": "stdout",
     "output_type": "stream",
     "text": [
      "+-------------+-----+\n",
      "|member_casual|count|\n",
      "+-------------+-----+\n",
      "|       casual|26859|\n",
      "|       member|58360|\n",
      "+-------------+-----+\n",
      "\n"
     ]
    },
    {
     "data": {
      "text/plain": [
       "<AxesSubplot:xlabel='member_casual'>"
      ]
     },
     "execution_count": 20,
     "metadata": {},
     "output_type": "execute_result"
    },
    {
     "data": {
      "image/png": "[encoded data removed]",
      "text/plain": [
       "<Figure size 432x288 with 1 Axes>"
      ]
     },
     "metadata": {
      "needs_background": "light"
     },
     "output_type": "display_data"
    }
   ],
   "source": [
    "a=df1.groupBy(\"member_casual\").count()\n",
    "a.show()\n",
    "a.toPandas().plot.bar(x=\"member_casual\", y=\"count\",legend=False)"
   ]
  },
  {
   "cell_type": "markdown",
   "id": "be22a7cb",
   "metadata": {},
   "source": [
    "Bar plot showing number of casual users and number of members in the shared rides taken in Oct 2021"
   ]
  },
  {
   "cell_type": "code",
   "execution_count": 21,
   "id": "8a7c5e15",
   "metadata": {},
   "outputs": [
    {
     "name": "stdout",
     "output_type": "stream",
     "text": [
      "+-------------+------+\n",
      "|member_casual| count|\n",
      "+-------------+------+\n",
      "|       casual|114553|\n",
      "|       member|188980|\n",
      "+-------------+------+\n",
      "\n"
     ]
    },
    {
     "data": {
      "text/plain": [
       "<AxesSubplot:xlabel='member_casual'>"
      ]
     },
     "execution_count": 21,
     "metadata": {},
     "output_type": "execute_result"
    },
    {
     "data": {
      "image/png": "[encoded data removed]",
      "text/plain": [
       "<Figure size 432x288 with 1 Axes>"
      ]
     },
     "metadata": {
      "needs_background": "light"
     },
     "output_type": "display_data"
    }
   ],
   "source": [
    "b=df2.groupBy(\"member_casual\").count()\n",
    "b.show()\n",
    "b.toPandas().plot.bar(x=\"member_casual\", y=\"count\",legend=False)\n"
   ]
  },
  {
   "cell_type": "markdown",
   "id": "e7b70258",
   "metadata": {},
   "source": [
    "Top 10 start and end station pairs in Jan 2021"
   ]
  },
  {
   "cell_type": "code",
   "execution_count": 13,
   "id": "ab4c17a1",
   "metadata": {},
   "outputs": [
    {
     "data": {
      "text/html": [
       "<div>\n",
       "<style scoped>\n",
       "    .dataframe tbody tr th:only-of-type {\n",
       "        vertical-align: middle;\n",
       "    }\n",
       "\n",
       "    .dataframe tbody tr th {\n",
       "        vertical-align: top;\n",
       "    }\n",
       "\n",
       "    .dataframe thead th {\n",
       "        text-align: right;\n",
       "    }\n",
       "</style>\n",
       "<table border=\"1\" class=\"dataframe\">\n",
       "  <thead>\n",
       "    <tr style=\"text-align: right;\">\n",
       "      <th></th>\n",
       "      <th>start_station_name</th>\n",
       "      <th>end_station_name</th>\n",
       "      <th>count</th>\n",
       "    </tr>\n",
       "  </thead>\n",
       "  <tbody>\n",
       "    <tr>\n",
       "      <th>372</th>\n",
       "      <td>Jefferson Dr &amp; 14th St SW</td>\n",
       "      <td>Jefferson Dr &amp; 14th St SW</td>\n",
       "      <td>100</td>\n",
       "    </tr>\n",
       "    <tr>\n",
       "      <th>9661</th>\n",
       "      <td>Ohio Dr &amp; West Basin Dr SW / MLK &amp; FDR Memorials</td>\n",
       "      <td>Ohio Dr &amp; West Basin Dr SW / MLK &amp; FDR Memorials</td>\n",
       "      <td>98</td>\n",
       "    </tr>\n",
       "    <tr>\n",
       "      <th>12183</th>\n",
       "      <td>1st &amp; M St NE</td>\n",
       "      <td>1st &amp; M St NE</td>\n",
       "      <td>86</td>\n",
       "    </tr>\n",
       "    <tr>\n",
       "      <th>6902</th>\n",
       "      <td>Hains Point/Buckeye &amp; Ohio Dr SW</td>\n",
       "      <td>Hains Point/Buckeye &amp; Ohio Dr SW</td>\n",
       "      <td>86</td>\n",
       "    </tr>\n",
       "    <tr>\n",
       "      <th>23996</th>\n",
       "      <td>Gravelly Point</td>\n",
       "      <td>Gravelly Point</td>\n",
       "      <td>80</td>\n",
       "    </tr>\n",
       "    <tr>\n",
       "      <th>2314</th>\n",
       "      <td>Anacostia Park</td>\n",
       "      <td>Anacostia Park</td>\n",
       "      <td>77</td>\n",
       "    </tr>\n",
       "    <tr>\n",
       "      <th>9591</th>\n",
       "      <td>4th St &amp; Madison Dr NW</td>\n",
       "      <td>4th St &amp; Madison Dr NW</td>\n",
       "      <td>68</td>\n",
       "    </tr>\n",
       "    <tr>\n",
       "      <th>24756</th>\n",
       "      <td>Thomas Circle</td>\n",
       "      <td>Thomas Circle</td>\n",
       "      <td>63</td>\n",
       "    </tr>\n",
       "    <tr>\n",
       "      <th>17105</th>\n",
       "      <td>New Hampshire Ave &amp; T St NW</td>\n",
       "      <td>New Hampshire Ave &amp; T St NW</td>\n",
       "      <td>61</td>\n",
       "    </tr>\n",
       "    <tr>\n",
       "      <th>26216</th>\n",
       "      <td>14th &amp; L St NW</td>\n",
       "      <td>14th &amp; L St NW</td>\n",
       "      <td>59</td>\n",
       "    </tr>\n",
       "  </tbody>\n",
       "</table>\n",
       "</div>"
      ],
      "text/plain": [
       "                                     start_station_name  \\\n",
       "372                           Jefferson Dr & 14th St SW   \n",
       "9661   Ohio Dr & West Basin Dr SW / MLK & FDR Memorials   \n",
       "12183                                     1st & M St NE   \n",
       "6902                   Hains Point/Buckeye & Ohio Dr SW   \n",
       "23996                                    Gravelly Point   \n",
       "2314                                     Anacostia Park   \n",
       "9591                             4th St & Madison Dr NW   \n",
       "24756                                     Thomas Circle   \n",
       "17105                       New Hampshire Ave & T St NW   \n",
       "26216                                    14th & L St NW   \n",
       "\n",
       "                                       end_station_name  count  \n",
       "372                           Jefferson Dr & 14th St SW    100  \n",
       "9661   Ohio Dr & West Basin Dr SW / MLK & FDR Memorials     98  \n",
       "12183                                     1st & M St NE     86  \n",
       "6902                   Hains Point/Buckeye & Ohio Dr SW     86  \n",
       "23996                                    Gravelly Point     80  \n",
       "2314                                     Anacostia Park     77  \n",
       "9591                             4th St & Madison Dr NW     68  \n",
       "24756                                     Thomas Circle     63  \n",
       "17105                       New Hampshire Ave & T St NW     61  \n",
       "26216                                    14th & L St NW     59  "
      ]
     },
     "execution_count": 13,
     "metadata": {},
     "output_type": "execute_result"
    }
   ],
   "source": [
    "c=df1.groupBy(\"start_station_name\",\"end_station_name\").count().toPandas()\n",
    "c.sort_values(by='count', ascending=False)[:10]"
   ]
  },
  {
   "cell_type": "markdown",
   "id": "53fe7595",
   "metadata": {},
   "source": [
    "Top 10 start and end station pairs in Oct 2021"
   ]
  },
  {
   "cell_type": "code",
   "execution_count": 14,
   "id": "903270f2",
   "metadata": {},
   "outputs": [
    {
     "data": {
      "text/html": [
       "<div>\n",
       "<style scoped>\n",
       "    .dataframe tbody tr th:only-of-type {\n",
       "        vertical-align: middle;\n",
       "    }\n",
       "\n",
       "    .dataframe tbody tr th {\n",
       "        vertical-align: top;\n",
       "    }\n",
       "\n",
       "    .dataframe thead th {\n",
       "        text-align: right;\n",
       "    }\n",
       "</style>\n",
       "<table border=\"1\" class=\"dataframe\">\n",
       "  <thead>\n",
       "    <tr style=\"text-align: right;\">\n",
       "      <th></th>\n",
       "      <th>start_station_name</th>\n",
       "      <th>end_station_name</th>\n",
       "      <th>count</th>\n",
       "    </tr>\n",
       "  </thead>\n",
       "  <tbody>\n",
       "    <tr>\n",
       "      <th>15762</th>\n",
       "      <td>Smithsonian-National Mall / Jefferson Dr &amp; 12t...</td>\n",
       "      <td>Smithsonian-National Mall / Jefferson Dr &amp; 12t...</td>\n",
       "      <td>484</td>\n",
       "    </tr>\n",
       "    <tr>\n",
       "      <th>23275</th>\n",
       "      <td>1st &amp; M St NE</td>\n",
       "      <td>New Jersey Ave &amp; F St NW</td>\n",
       "      <td>467</td>\n",
       "    </tr>\n",
       "    <tr>\n",
       "      <th>813</th>\n",
       "      <td>Jefferson Dr &amp; 14th St SW</td>\n",
       "      <td>Jefferson Dr &amp; 14th St SW</td>\n",
       "      <td>466</td>\n",
       "    </tr>\n",
       "    <tr>\n",
       "      <th>19501</th>\n",
       "      <td>4th St &amp; Madison Dr NW</td>\n",
       "      <td>4th St &amp; Madison Dr NW</td>\n",
       "      <td>397</td>\n",
       "    </tr>\n",
       "    <tr>\n",
       "      <th>30065</th>\n",
       "      <td>New Jersey Ave &amp; F St NW</td>\n",
       "      <td>1st &amp; M St NE</td>\n",
       "      <td>373</td>\n",
       "    </tr>\n",
       "    <tr>\n",
       "      <th>1683</th>\n",
       "      <td>15th St &amp; Constitution Ave NW</td>\n",
       "      <td>15th St &amp; Constitution Ave NW</td>\n",
       "      <td>315</td>\n",
       "    </tr>\n",
       "    <tr>\n",
       "      <th>19839</th>\n",
       "      <td>Ohio Dr &amp; West Basin Dr SW / MLK &amp; FDR Memorials</td>\n",
       "      <td>Ohio Dr &amp; West Basin Dr SW / MLK &amp; FDR Memorials</td>\n",
       "      <td>302</td>\n",
       "    </tr>\n",
       "    <tr>\n",
       "      <th>52841</th>\n",
       "      <td>Henry Bacon Dr &amp; Lincoln Memorial Circle NW</td>\n",
       "      <td>Henry Bacon Dr &amp; Lincoln Memorial Circle NW</td>\n",
       "      <td>270</td>\n",
       "    </tr>\n",
       "    <tr>\n",
       "      <th>53227</th>\n",
       "      <td>Lincoln Memorial</td>\n",
       "      <td>Lincoln Memorial</td>\n",
       "      <td>267</td>\n",
       "    </tr>\n",
       "    <tr>\n",
       "      <th>49278</th>\n",
       "      <td>Gravelly Point</td>\n",
       "      <td>Gravelly Point</td>\n",
       "      <td>266</td>\n",
       "    </tr>\n",
       "  </tbody>\n",
       "</table>\n",
       "</div>"
      ],
      "text/plain": [
       "                                      start_station_name  \\\n",
       "15762  Smithsonian-National Mall / Jefferson Dr & 12t...   \n",
       "23275                                      1st & M St NE   \n",
       "813                            Jefferson Dr & 14th St SW   \n",
       "19501                             4th St & Madison Dr NW   \n",
       "30065                           New Jersey Ave & F St NW   \n",
       "1683                       15th St & Constitution Ave NW   \n",
       "19839   Ohio Dr & West Basin Dr SW / MLK & FDR Memorials   \n",
       "52841        Henry Bacon Dr & Lincoln Memorial Circle NW   \n",
       "53227                                   Lincoln Memorial   \n",
       "49278                                     Gravelly Point   \n",
       "\n",
       "                                        end_station_name  count  \n",
       "15762  Smithsonian-National Mall / Jefferson Dr & 12t...    484  \n",
       "23275                           New Jersey Ave & F St NW    467  \n",
       "813                            Jefferson Dr & 14th St SW    466  \n",
       "19501                             4th St & Madison Dr NW    397  \n",
       "30065                                      1st & M St NE    373  \n",
       "1683                       15th St & Constitution Ave NW    315  \n",
       "19839   Ohio Dr & West Basin Dr SW / MLK & FDR Memorials    302  \n",
       "52841        Henry Bacon Dr & Lincoln Memorial Circle NW    270  \n",
       "53227                                   Lincoln Memorial    267  \n",
       "49278                                     Gravelly Point    266  "
      ]
     },
     "execution_count": 14,
     "metadata": {},
     "output_type": "execute_result"
    }
   ],
   "source": [
    "d=df2.groupBy(\"start_station_name\",\"end_station_name\").count().toPandas()\n",
    "d.sort_values(by='count', ascending=False)[:10]"
   ]
  },
  {
   "cell_type": "markdown",
   "id": "b3a3e61e",
   "metadata": {},
   "source": [
    "Pie chart showing distribution of type of vehicles used in Jan 2021"
   ]
  },
  {
   "cell_type": "code",
   "execution_count": 15,
   "id": "68d18dba",
   "metadata": {},
   "outputs": [],
   "source": [
    "e=df1.groupBy(\"rideable_type\").count().toPandas()\n",
    "e.set_index('rideable_type', inplace=True)"
   ]
  },
  {
   "cell_type": "code",
   "execution_count": 16,
   "id": "1fe7802d",
   "metadata": {},
   "outputs": [
    {
     "data": {
      "text/plain": [
       "<AxesSubplot:ylabel='count'>"
      ]
     },
     "execution_count": 16,
     "metadata": {},
     "output_type": "execute_result"
    },
    {
     "data": {
      "image/png": "[encoded data removed]",
      "text/plain": [
       "<Figure size 432x288 with 1 Axes>"
      ]
     },
     "metadata": {},
     "output_type": "display_data"
    }
   ],
   "source": [
    "e.plot.pie(y='count',legend=False,autopct='%1.1f%%')"
   ]
  },
  {
   "cell_type": "markdown",
   "id": "f3ba4b2e",
   "metadata": {},
   "source": []
  },
  {
   "cell_type": "code",
   "execution_count": 17,
   "id": "54a49afe",
   "metadata": {},
   "outputs": [],
   "source": [
    "f=df2.groupBy(\"rideable_type\").count().toPandas()\n",
    "f.set_index('rideable_type', inplace=True)"
   ]
  },
  {
   "cell_type": "code",
   "execution_count": 18,
   "id": "aa2fae81",
   "metadata": {},
   "outputs": [
    {
     "data": {
      "text/plain": [
       "<AxesSubplot:ylabel='count'>"
      ]
     },
     "execution_count": 18,
     "metadata": {},
     "output_type": "execute_result"
    },
    {
     "data": {
      "image/png": "[encoded data removed]",
      "text/plain": [
       "<Figure size 432x288 with 1 Axes>"
      ]
     },
     "metadata": {},
     "output_type": "display_data"
    }
   ],
   "source": [
    "f.plot.pie(y='count',legend=False,autopct='%1.1f%%')"
   ]
  }
 ],
 "metadata": {
  "celltoolbar": "Raw Cell Format",
  "kernelspec": {
   "display_name": "Python 3",
   "language": "python",
   "name": "python3"
  },
  "language_info": {
   "codemirror_mode": {
    "name": "ipython",
    "version": 3
   },
   "file_extension": ".py",
   "mimetype": "text/x-python",
   "name": "python",
   "nbconvert_exporter": "python",
   "pygments_lexer": "ipython3",
   "version": "3.6.9"
  }
 },
 "nbformat": 4,
 "nbformat_minor": 5
}
